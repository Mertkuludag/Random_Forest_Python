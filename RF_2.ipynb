{
 "cells": [
  {
   "cell_type": "code",
   "execution_count": null,
   "id": "9230cbe8",
   "metadata": {},
   "outputs": [],
   "source": [
    "import rasterio\n",
    "import numpy as np\n",
    "import pandas as pd\n",
    "from sklearn.ensemble import RandomForestClassifier\n",
    "from sklearn.metrics import accuracy_score, classification_report\n",
    "from rasterimport geopandas as gpdio.transform import from_origin\n",
    "import geopandas as gpd\n",
    "\n",
    "# Uydu görüntüsünü yükleyin (örneğin, \"image.tif\" gibi).\n",
    "stacked_image_path  = \"path/to/your/image.tif\""
   ]
  },
  {
   "cell_type": "code",
   "execution_count": null,
   "id": "224f016d",
   "metadata": {},
   "outputs": [],
   "source": [
    "# Noktaları .shp formatında yükleyin.\n",
    "points_path = \"path/to/your/points.shp\"\n",
    "points_data = gpd.read_file(points_path)\n",
    "\n",
    "\n",
    "# Noktaların koordinatlarını alın.\n",
    "coordinates = list(zip(points_data.geometry.x, points_data.geometry.y))\n",
    "\n",
    "# Noktaların sınıf etiketlerini alın\n",
    "class_labels = list(points_data['Sinif'])  # 'Sinif' sütun adını güncelleyin\n",
    "\n",
    "\n",
    "# Noktaların piksel değerlerini alın.\n",
    "pixel_values = []\n",
    "\n",
    "# Stack'lenmiş görüntüyü açın\n",
    "with rasterio.open(stacked_image_path) as stacked_image:\n",
    "    # Görüntü içindeki her bant için\n",
    "    for band_num in range(1, 61):  # Toplam 60 bant varsa\n",
    "        # Piksel değerlerini tutacak bir liste oluşturun\n",
    "        band_pixel_values = []\n",
    "        for coord in coordinates:\n",
    "            row, col = rasterio.transform.rowcol(stacked_image.transform, coord[0], coord[1])\n",
    "            pixel_value = stacked_image.read(band_num, window=((row, row+1), (col, col+1)))\n",
    "            band_pixel_values.append(pixel_value)\n",
    "        pixel_values.append(band_pixel_values)"
   ]
  },
  {
   "cell_type": "code",
   "execution_count": null,
   "id": "60d6c954",
   "metadata": {},
   "outputs": [],
   "source": [
    "# Eğitim verileri için özellik matrisi (X_train) ve etiketler (y_train) oluşturun.\n",
    "X_train = np.array(pixel_values)\n",
    "y_train = np.array(class_labels)  # Etiketlerin bulunduğu sütunu belirleyin."
   ]
  },
  {
   "cell_type": "code",
   "execution_count": null,
   "id": "84756d27",
   "metadata": {},
   "outputs": [],
   "source": [
    "# Random Forest sınıflandırıcı modelini oluşturun ve eğitin.\n",
    "rf_classifier = RandomForestClassifier(n_estimators=100, random_state=42)\n",
    "rf_classifier.fit(X_train, y_train)"
   ]
  },
  {
   "cell_type": "code",
   "execution_count": null,
   "id": "1b4191d9",
   "metadata": {},
   "outputs": [],
   "source": [
    "# Test verileri de uygun bir şekilde hazırlanmalıdır, benzer şekilde label sütunlarını kullanarak eğitim verileri hazırladığınız gibi yapabilirsiniz.\n",
    "# Test verileri için özellik matrisi (X_test) oluşturun.\n",
    "# Örnek olarak, uygun test noktalarının piksel değerlerini alabilirsiniz:\n",
    "test_points_path = \"path/to/your/test_points.shp\"\n",
    "test_points_data = gpd.read_file(test_points_path)\n",
    "\n",
    "test_coordinates = list(zip(test_points_data.geometry.x, test_points_data.geometry.y))\n",
    "test_pixel_values = []\n",
    "\n",
    "for coord in test_coordinates:\n",
    "    row, col = rasterio.transform.rowcol(satellite_image.transform, coord[0], coord[1])\n",
    "    test_pixel_value = satellite_image.read(indexes=[1, 2, 3, 4], window=((row, row+1), (col, col+1)))\n",
    "    test_pixel_values.append(test_pixel_value)\n",
    "\n",
    "X_test = np.array(test_pixel_values)\n",
    "y_test = test_points_data['Crop_Type']  # Test verilerinize uygun şekilde etiketleri de belirleyin.\n",
    "\n",
    "# Modeli değerlendirme:\n",
    "y_pred = rf_classifier.predict(X_test)\n",
    "accuracy = accuracy_score(y_test, y_pred)\n",
    "classification_report_result = classification_report(y_test, y_pred)\n",
    "\n",
    "print(\"Doğruluk: \", accuracy)\n",
    "print(\"Sınıflandırma Raporu:\")\n",
    "print(classification_report_result)"
   ]
  },
  {
   "cell_type": "code",
   "execution_count": null,
   "id": "26d90ef9",
   "metadata": {},
   "outputs": [],
   "source": [
    "# Sınıflandırılmış görüntüyü oluşturun.\n",
    "y_pred_image = np.zeros_like(red_band, dtype=np.uint8)  # Red_band ile aynı boyutta bir sınıflandırılmış görüntü oluşturun.\n",
    "\n",
    "# Sınıflandırılmış değerleri sınıflandırıcı sonuçlarına göre atayın.\n",
    "for row in range(y_pred_image.shape[0]):\n",
    "    for col in range(y_pred_image.shape[1]):\n",
    "        y_pred_image[row, col] = y_pred[row * y_pred_image.shape[1] + col]\n",
    "\n",
    "# Sınıflandırılmış görüntüyü kaydedin.\n",
    "output_path = \"path/to/your/classified_image.tif\"  # Kaydedilecek dosyanın yolu ve adını belirleyin.\n",
    "transform = from_origin(satellite_image.bounds.left, satellite_image.bounds.top, satellite_image.res[0], satellite_image.res[1])\n",
    "\n",
    "with rasterio.open(output_path, 'w', driver='GTiff', height=y_pred_image.shape[0], width=y_pred_image.shape[1],\n",
    "                   count=1, dtype=str(y_pred_image.dtype), crs=satellite_image.crs, transform=transform) as dst:\n",
    "    dst.write(y_pred_image, indexes=1)"
   ]
  }
 ],
 "metadata": {
  "kernelspec": {
   "display_name": "Python 3 (ipykernel)",
   "language": "python",
   "name": "python3"
  },
  "language_info": {
   "codemirror_mode": {
    "name": "ipython",
    "version": 3
   },
   "file_extension": ".py",
   "mimetype": "text/x-python",
   "name": "python",
   "nbconvert_exporter": "python",
   "pygments_lexer": "ipython3",
   "version": "3.8.17"
  }
 },
 "nbformat": 4,
 "nbformat_minor": 5
}
