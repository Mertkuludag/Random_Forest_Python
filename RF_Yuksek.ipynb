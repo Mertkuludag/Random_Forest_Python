{
 "cells": [
  {
   "cell_type": "code",
   "execution_count": 4,
   "id": "f7dc5c50",
   "metadata": {},
   "outputs": [],
   "source": [
    "import numpy as np\n",
    "from osgeo import gdal\n",
    "import pandas as pd\n",
    "from sklearn.ensemble import RandomForestClassifier\n",
    "\n",
    "inpRaster = ''\n",
    "outRaster = ''\n",
    "#df = pd.read_csv('Training_data', sep=';')\n",
    "\n",
    "#ds = gdal.Open(inpRaster, gdaş.GA_ReadOnly)\n",
    "\n",
    "\n",
    "\n",
    "\n"
   ]
  },
  {
   "cell_type": "code",
   "execution_count": 7,
   "id": "625462fb",
   "metadata": {},
   "outputs": [
    {
     "ename": "NameError",
     "evalue": "name 'ds' is not defined",
     "output_type": "error",
     "traceback": [
      "\u001b[1;31m---------------------------------------------------------------------------\u001b[0m",
      "\u001b[1;31mNameError\u001b[0m                                 Traceback (most recent call last)",
      "Cell \u001b[1;32mIn[7], line 1\u001b[0m\n\u001b[1;32m----> 1\u001b[0m rows \u001b[38;5;241m=\u001b[39m \u001b[43mds\u001b[49m\u001b[38;5;241m.\u001b[39mRasterYSize\n\u001b[0;32m      2\u001b[0m cols \u001b[38;5;241m=\u001b[39m ds\u001b[38;5;241m.\u001b[39mRasterXSize\n\u001b[0;32m      3\u001b[0m bands \u001b[38;5;241m=\u001b[39m dsRsterCount\n",
      "\u001b[1;31mNameError\u001b[0m: name 'ds' is not defined"
     ]
    }
   ],
   "source": [
    "rows = ds.RasterYSize\n",
    "cols = ds.RasterXSize\n",
    "bands = dsRsterCount\n",
    "geo_transform = ds.getGeoTransform()\n",
    "projection = ds.GetProjectionRef()\n",
    "\n",
    "print(rows, cols)\n",
    "print(bands)"
   ]
  },
  {
   "cell_type": "code",
   "execution_count": null,
   "id": "4d017c31",
   "metadata": {},
   "outputs": [],
   "source": [
    "array = ds.ReadAsArray()\n",
    "ds = None\n",
    "\n",
    "print (array)"
   ]
  },
  {
   "cell_type": "code",
   "execution_count": null,
   "id": "85be46d0",
   "metadata": {},
   "outputs": [],
   "source": [
    "array = np.stack(array, axis=2)\n",
    "array = np.reshape(array, [rows*cols, bands])\n",
    "\n",
    "print(array[0])"
   ]
  },
  {
   "cell_type": "code",
   "execution_count": null,
   "id": "976a463c",
   "metadata": {},
   "outputs": [],
   "source": [
    "test = pd.DataFrame(array, dtype='int16')\n",
    "del array\n",
    "\n",
    "# band isimleri listelenir\n",
    "data = ['04_1','04_2', '05_1', '05_2']\n",
    "label = df ['COD']"
   ]
  }
 ],
 "metadata": {
  "kernelspec": {
   "display_name": "Python 3 (ipykernel)",
   "language": "python",
   "name": "python3"
  },
  "language_info": {
   "codemirror_mode": {
    "name": "ipython",
    "version": 3
   },
   "file_extension": ".py",
   "mimetype": "text/x-python",
   "name": "python",
   "nbconvert_exporter": "python",
   "pygments_lexer": "ipython3",
   "version": "3.8.17"
  }
 },
 "nbformat": 4,
 "nbformat_minor": 5
}
