{
 "cells": [
  {
   "cell_type": "code",
   "execution_count": 1,
   "id": "3617c3ef",
   "metadata": {},
   "outputs": [],
   "source": [
    "import numpy as np\n",
    "from osgeo import gdal\n",
    "import pandas as pd\n",
    "from sklearn.ensemble import RandomForestClassifier"
   ]
  },
  {
   "cell_type": "markdown",
   "id": "ddc97649",
   "metadata": {},
   "source": [
    "--- Girdilerin tanımı ve Görüntünün Array Hale Getirilmesi ---"
   ]
  },
  {
   "cell_type": "code",
   "execution_count": 2,
   "id": "31f64b28",
   "metadata": {},
   "outputs": [
    {
     "name": "stderr",
     "output_type": "stream",
     "text": [
      "D:\\Conda\\envs\\RF_Yuksek\\lib\\site-packages\\osgeo\\gdal.py:287: FutureWarning: Neither gdal.UseExceptions() nor gdal.DontUseExceptions() has been explicitly called. In GDAL 4.0, exceptions will be enabled by default.\n",
      "  warnings.warn(\n"
     ]
    },
    {
     "name": "stdout",
     "output_type": "stream",
     "text": [
      "20982 10980\n",
      "10\n"
     ]
    }
   ],
   "source": [
    "inpRaster = 'D:/TEZ/SentinelGoruntu/Islem_Adimleri/4_Kompozit/04_NISAN/04_Kompozit.tif'\n",
    "outRaster = 'D:/TEZ/SentinelGoruntu/Siniflama_test/output.tif'\n",
    "#df = pd.read_csv('')\n",
    "\n",
    "ds = gdal.Open(inpRaster, gdal.GA_ReadOnly)\n",
    "\n",
    "rows = ds.RasterYSize\n",
    "cols = ds.RasterXSize\n",
    "bands = ds.RasterCount\n",
    "geo_transform = ds.GetGeoTransform()\n",
    "projection = ds.GetProjectionRef()\n",
    "\n",
    "\n",
    "print(rows, cols)\n",
    "print(bands)\n",
    "\n",
    "array = ds.ReadAsArray()\n",
    "ds = None\n",
    "\n",
    "#print(array)"
   ]
  },
  {
   "cell_type": "markdown",
   "id": "6a32386a",
   "metadata": {},
   "source": [
    "--- Görüntüyü ve Train verisini Array Yapalım ----"
   ]
  },
  {
   "cell_type": "code",
   "execution_count": 3,
   "id": "dd356fe1",
   "metadata": {
    "scrolled": true
   },
   "outputs": [
    {
     "name": "stdout",
     "output_type": "stream",
     "text": [
      "[ 497  553  384 1211 2177 3254 1840 3559 3223 2221]\n"
     ]
    }
   ],
   "source": [
    "array = np.stack(array, axis=2)\n",
    "array = np.reshape(array, [rows*cols,bands])\n",
    "\n",
    "print(array[0])\n",
    "\n",
    "test = pd.DataFrame(array, dtype='int16')\n",
    "del array"
   ]
  },
  {
   "cell_type": "code",
   "execution_count": null,
   "id": "c0376908",
   "metadata": {},
   "outputs": [],
   "source": [
    "# Training data verilerinin belirlenmesi\n",
    "data = df['test verisindeki band sütun isimleri']\n",
    "label = df['test verisindeki ürün idleri']"
   ]
  },
  {
   "cell_type": "markdown",
   "id": "d3265da0",
   "metadata": {},
   "source": [
    "--- Model Eğitimi ----"
   ]
  },
  {
   "cell_type": "code",
   "execution_count": null,
   "id": "f9e4ae54",
   "metadata": {},
   "outputs": [],
   "source": [
    "# Sınıflayıcı parametrelerinin ayarlanması\n",
    "clf = RandomForestClassifier(n_estimator=50, n_jobs=-1)\n",
    "clf.fit(data,label)\n",
    "del data\n",
    "del label"
   ]
  },
  {
   "cell_type": "code",
   "execution_count": null,
   "id": "05371287",
   "metadata": {},
   "outputs": [],
   "source": [
    "# Sınıfların predict edilmesi\n",
    "y_pred = clf.predict(test)\n",
    "del test"
   ]
  },
  {
   "cell_type": "code",
   "execution_count": null,
   "id": "d95709a8",
   "metadata": {},
   "outputs": [],
   "source": [
    "classification = y_pre.reshape((rows,cols))\n",
    "del y_pred"
   ]
  },
  {
   "cell_type": "markdown",
   "id": "46dfde0a",
   "metadata": {},
   "source": [
    "--- Sınıflanmış olan Görüntünün Oluşturulması ---"
   ]
  },
  {
   "cell_type": "code",
   "execution_count": null,
   "id": "ed63d96a",
   "metadata": {},
   "outputs": [],
   "source": [
    "def createGeotiff(outRaster, data, geo_transform, projection):\n",
    "    # veri ile GEOTIFF oluşturalım\n",
    "    driver = gdal.GetDriverByName('GTiff')\n",
    "    rows, cols = data.shape\n",
    "    rasterDS = driver.Create(outRaster, cols, rows, 1, gdal.GDT_Int32)\n",
    "    rasterDS.SetGeoTransform(geo_transform)\n",
    "    rasterDS.SetProjection(projection)\n",
    "    band = rasterDS.GetRasterBand(1)\n",
    "    band.WriteArray(data)\n",
    "    rasterDS = None\n",
    "\n",
    "\n",
    "#Sınıflanan Görüntü export edilir\n",
    "createGeotiff(outRaster,classification,geo_transform,projection)"
   ]
  }
 ],
 "metadata": {
  "kernelspec": {
   "display_name": "Python 3 (ipykernel)",
   "language": "python",
   "name": "python3"
  },
  "language_info": {
   "codemirror_mode": {
    "name": "ipython",
    "version": 3
   },
   "file_extension": ".py",
   "mimetype": "text/x-python",
   "name": "python",
   "nbconvert_exporter": "python",
   "pygments_lexer": "ipython3",
   "version": "3.8.17"
  }
 },
 "nbformat": 4,
 "nbformat_minor": 5
}
